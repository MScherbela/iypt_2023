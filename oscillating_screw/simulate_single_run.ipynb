{
 "cells": [
  {
   "cell_type": "code",
   "execution_count": 5,
   "metadata": {},
   "outputs": [
    {
     "data": {
      "text/plain": [
       "(-25.41172183772885,\n",
       " 516.0461585923058,\n",
       " -17.955473059437598,\n",
       " 3.2833802375344225)"
      ]
     },
     "execution_count": 5,
     "metadata": {},
     "output_type": "execute_result"
    }
   ],
   "source": [
    "import numpy as np\n",
    "from simulation import simulate, get_screw_params, get_screw_endpoints\n",
    "import matplotlib.pyplot as plt\n",
    "\n",
    "# All lengths are given in cm\n",
    "params = get_screw_params(\n",
    "    length=5, \n",
    "    diameter=0.8, \n",
    "    head_diameter=3, \n",
    "    head_thickness=0.2, \n",
    "    mu=0.30, \n",
    "    mu_roll=0.005, \n",
    "    alpha=np.radians(30)\n",
    ")\n",
    "phi_initial_in_degrees = 120\n",
    "dt = 1e-3 # time-step for simulation: Smaller = more accurate, but takes longer to run\n",
    "t_end = 2.0 # end time for simulation (in seconds)\n",
    "\n",
    "results = simulate(params, phi_initial_in_degrees, dt, t_end)\n",
    "x1, x2 = get_screw_endpoints(results.R, results.phi, params)\n",
    "\n",
    "plt.close(\"all\")\n",
    "fig, ax = plt.subplots(1,1, figsize=(14, 5))\n",
    "ax.plot(-x1[:, 1], x1[:, 0], color=\"C0\")\n",
    "ax.plot(-x2[:, 1], x2[:, 0], color=\"C1\")\n",
    "ax.set_xlabel(\"Position along the ramp (down = right) / cm\")\n",
    "ax.set_ylabel(\"Position across the ramp / cm\")\n",
    "ax.axis(\"equal\")\n",
    "\n"
   ]
  },
  {
   "cell_type": "code",
   "execution_count": null,
   "metadata": {},
   "outputs": [],
   "source": []
  }
 ],
 "metadata": {
  "kernelspec": {
   "display_name": "jax",
   "language": "python",
   "name": "python3"
  },
  "language_info": {
   "codemirror_mode": {
    "name": "ipython",
    "version": 3
   },
   "file_extension": ".py",
   "mimetype": "text/x-python",
   "name": "python",
   "nbconvert_exporter": "python",
   "pygments_lexer": "ipython3",
   "version": "3.10.10"
  },
  "orig_nbformat": 4
 },
 "nbformat": 4,
 "nbformat_minor": 2
}
